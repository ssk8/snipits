{
 "cells": [
  {
   "cell_type": "code",
   "execution_count": 1,
   "id": "8e9084c0-00ec-4125-b4f6-80955bbe0632",
   "metadata": {},
   "outputs": [],
   "source": [
    "from dataclasses import dataclass, field"
   ]
  },
  {
   "cell_type": "code",
   "execution_count": 2,
   "id": "da936207-cf3c-47d8-9acf-059bf676908f",
   "metadata": {},
   "outputs": [],
   "source": [
    "@dataclass(order=True)\n",
    "class Show:\n",
    "    web_page_title: str = field(repr=False)\n",
    "    web_url: str = field(repr=False)\n",
    "    full_name: str = field(init=False, repr=False)\n",
    "    name: str = field(init=False)\n",
    "    alt_name: str = field(init=False)\n",
    "    \n",
    "    def __post_init__(self):\n",
    "        self.full_name = self.web_page_title[:-18]\n",
    "        self.alt_name = f\"{self.full_name[p+1:self.full_name.find(')')]}\" if (p:=self.full_name.find('('))!=-1 else self.full_name\n",
    "        self.name = self.full_name[:p] if (p:=self.full_name.find('('))!=-1 else self.full_name\n",
    "        \n",
    "    def full_data(self, n='-'):\n",
    "        dr = \"\"\n",
    "        header = f\"{(a:=int(len(self.name)+2)//2)*'-'}{n}{a*'-'}\"\n",
    "        dr+=header + '\\n'\n",
    "        dr+=f\"{self.name}\" + '\\n'\n",
    "        if self.name != self.alt_name: dr+=f\"or {self.alt_name}\" + '\\n'\n",
    "        dr+=self.web_url + '\\n'\n",
    "        dr+=header\n",
    "        return dr"
   ]
  },
  {
   "cell_type": "code",
   "execution_count": 3,
   "id": "e7afb4fe-75fb-4a62-a744-611ed2b4aea9",
   "metadata": {},
   "outputs": [],
   "source": [
    "with open(\"/home/curt/Documents/shows.txt\") as f:\n",
    "    data = f.read().splitlines()\n",
    "    \n",
    "new_shows = [Show(n, m) for n, m in zip(data[::3], data[1::3])]\n",
    "new_shows.sort()"
   ]
  },
  {
   "cell_type": "code",
   "execution_count": null,
   "id": "41cc9415-5bc2-4b0d-af9e-a3f52427ae1e",
   "metadata": {},
   "outputs": [],
   "source": [
    "for n, show in enumerate(new_shows):\n",
    "    print(show.full_data(n))\n",
    "    print()"
   ]
  }
 ],
 "metadata": {
  "kernelspec": {
   "display_name": "Python 3 (ipykernel)",
   "language": "python",
   "name": "python3"
  },
  "language_info": {
   "codemirror_mode": {
    "name": "ipython",
    "version": 3
   },
   "file_extension": ".py",
   "mimetype": "text/x-python",
   "name": "python",
   "nbconvert_exporter": "python",
   "pygments_lexer": "ipython3",
   "version": "3.10.1"
  }
 },
 "nbformat": 4,
 "nbformat_minor": 5
}
