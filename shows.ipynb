{
 "cells": [
  {
   "cell_type": "code",
   "execution_count": null,
   "id": "8e9084c0-00ec-4125-b4f6-80955bbe0632",
   "metadata": {},
   "outputs": [],
   "source": [
    "from dataclasses import dataclass, field\n",
    "from bs4 import BeautifulSoup\n",
    "import requests"
   ]
  },
  {
   "cell_type": "code",
   "execution_count": null,
   "id": "da936207-cf3c-47d8-9acf-059bf676908f",
   "metadata": {},
   "outputs": [],
   "source": [
    "@dataclass(order=True)\n",
    "class Show:\n",
    "    web_page_title: str = field(repr=False)\n",
    "    web_url: str = field(repr=False)\n",
    "    full_name: str = field(init=False, repr=False)\n",
    "    name: str = field(init=False)\n",
    "    alt_name: str = field(init=False)\n",
    "    score: int = 0\n",
    "    \n",
    "    def __post_init__(self):\n",
    "        self.full_name = self.web_page_title[:-18]\n",
    "        self.alt_name = f\"{self.full_name[p+1:self.full_name.find(')')]}\" if (p:=self.full_name.find('('))!=-1 else self.full_name\n",
    "        self.name = self.full_name[:p] if (p:=self.full_name.find('('))!=-1 else self.full_name\n",
    "        \n",
    "    def __str__(self):\n",
    "        return f\"{self.name}{('or '+self.alt_name)*(self.name!=self.alt_name)} Score: {self.score}\""
   ]
  },
  {
   "cell_type": "code",
   "execution_count": null,
   "id": "e7afb4fe-75fb-4a62-a744-611ed2b4aea9",
   "metadata": {},
   "outputs": [],
   "source": [
    "with open(\"/home/curt/Documents/shows.txt\") as f:\n",
    "    data = f.read().splitlines()\n",
    "    \n",
    "new_shows = [Show(n, m) for n, m in zip(data[::3], data[1::3])]\n",
    "new_shows.sort()"
   ]
  },
  {
   "cell_type": "code",
   "execution_count": null,
   "id": "d1f8d755-caf8-436a-92fc-e4780e200fe9",
   "metadata": {},
   "outputs": [],
   "source": [
    "def get_score(show):\n",
    "    p = requests.get(show.web_url)\n",
    "    soup = BeautifulSoup(p.text, 'html.parser')\n",
    "    for n in range(10):\n",
    "        score = soup.find_all(class_=f\"score-label score-{n}\")\n",
    "        if score: return score[0].string"
   ]
  },
  {
   "cell_type": "code",
   "execution_count": null,
   "id": "676f88d0-a9f4-42b6-99cf-cdc1941e4fe7",
   "metadata": {
    "tags": []
   },
   "outputs": [],
   "source": [
    "for n, show in enumerate(new_shows):\n",
    "    print(show)\n",
    "    show.score = get_score(show)\n",
    "    print(f\"{show.score}\")"
   ]
  },
  {
   "cell_type": "code",
   "execution_count": null,
   "id": "41cc9415-5bc2-4b0d-af9e-a3f52427ae1e",
   "metadata": {
    "tags": []
   },
   "outputs": [],
   "source": [
    "for n, show in enumerate(new_shows):\n",
    "    print(show)"
   ]
  }
 ],
 "metadata": {
  "kernelspec": {
   "display_name": "Python 3 (ipykernel)",
   "language": "python",
   "name": "python3"
  },
  "language_info": {
   "codemirror_mode": {
    "name": "ipython",
    "version": 3
   },
   "file_extension": ".py",
   "mimetype": "text/x-python",
   "name": "python",
   "nbconvert_exporter": "python",
   "pygments_lexer": "ipython3",
   "version": "3.10.1"
  }
 },
 "nbformat": 4,
 "nbformat_minor": 5
}
